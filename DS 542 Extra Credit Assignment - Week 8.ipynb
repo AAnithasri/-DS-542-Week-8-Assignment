{
 "cells": [
  {
   "cell_type": "markdown",
   "id": "dc343c46",
   "metadata": {},
   "source": [
    "Name: Anithasri Arumugam \n",
    "\n",
    "Student ID: 1014259\n",
    "    \n",
    "DS 542 Extra Credit Assignment - Week 8"
   ]
  },
  {
   "cell_type": "code",
   "execution_count": 6,
   "id": "b67976ea",
   "metadata": {},
   "outputs": [
    {
     "name": "stdout",
     "output_type": "stream",
     "text": [
      "Enter the number for Calculation: 600851475143 \n",
      "The largest prime factor of the number 600851475143 is 6857\n"
     ]
    }
   ],
   "source": [
    "#import required  library for program\n",
    "import math\n",
    "  \n",
    "# Largest prime factor max function\n",
    "def PrimeFactorsMax (x):\n",
    "      \n",
    "    # Initialize the prime factor maximum\n",
    "    Primemax = -1\n",
    "      \n",
    "    # Print the number of 2s that divide n\n",
    "    while x % 2 == 0:\n",
    "        Primemax = 2\n",
    "        x /= 2     \n",
    "          \n",
    "\n",
    "    # iterate only for odd integers\n",
    "    for i in range(3, int(math.sqrt(x)) + 1, 2):\n",
    "        while x % i == 0:\n",
    "            Primemax = i\n",
    "            x = x / i\n",
    "      \n",
    "    # This condition is to handle whne prime number is greater than 2\n",
    "    if x > 2:\n",
    "        Primemax = x\n",
    "      \n",
    "    return int(Primemax)\n",
    "\n",
    "x=int(input(\"Enter the number for Calculation: \")) \n",
    "print(\"The largest prime factor of the number {} is {}\".format(x,PrimeFactorsMax(x)))"
   ]
  }
 ],
 "metadata": {
  "kernelspec": {
   "display_name": "Python 3 (ipykernel)",
   "language": "python",
   "name": "python3"
  },
  "language_info": {
   "codemirror_mode": {
    "name": "ipython",
    "version": 3
   },
   "file_extension": ".py",
   "mimetype": "text/x-python",
   "name": "python",
   "nbconvert_exporter": "python",
   "pygments_lexer": "ipython3",
   "version": "3.9.12"
  }
 },
 "nbformat": 4,
 "nbformat_minor": 5
}
