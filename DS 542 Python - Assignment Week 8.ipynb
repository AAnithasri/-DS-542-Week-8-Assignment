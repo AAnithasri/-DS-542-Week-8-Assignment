{
 "cells": [
  {
   "cell_type": "markdown",
   "id": "27bcd647",
   "metadata": {},
   "source": [
    "##  Name: Anithasri Arumugam\n",
    "##  Student ID: 1014259\n",
    "## Course : DS 542 Python in Data Science\n",
    "\n",
    "## Assignment Week 8"
   ]
  },
  {
   "cell_type": "code",
   "execution_count": 1,
   "id": "ad2be48e",
   "metadata": {},
   "outputs": [
    {
     "name": "stdout",
     "output_type": "stream",
     "text": [
      "The sum of the attributes undergraduate_students and graduate_students 110\n",
      "There are more graduate students than undergraduate students\n"
     ]
    }
   ],
   "source": [
    "class University:\n",
    "  def __init__(self,university_name,location, undergraduate_students, graduate_students):\n",
    "    self.university_name = university_name\n",
    "    self.location = location\n",
    "    self.undergraduate_students = undergraduate_students\n",
    "    self.graduate_students = graduate_students\n",
    "    \n",
    "  def print_university_size(self)  :\n",
    "      \n",
    "      print(\"The sum of the attributes undergraduate_students and graduate_students \" + str(self.undergraduate_students+self.graduate_students))\n",
    "      \n",
    "      \n",
    "  def is_undergraduate_greater(self) :\n",
    "      \n",
    "      if self.undergraduate_students > self.graduate_students:\n",
    "          print( \"There are more undergraduate students than graduate students\")\n",
    "          \n",
    "      else:\n",
    "          print(\"There are more graduate students than undergraduate students\")\n",
    "      \n",
    "SPU = University('Saint Peter’s University',\"United States\",50,60)\n",
    "SPU.print_university_size()  \n",
    "SPU.is_undergraduate_greater() "
   ]
  },
  {
   "cell_type": "code",
   "execution_count": 7,
   "id": "579a0fec",
   "metadata": {},
   "outputs": [
    {
     "name": "stdout",
     "output_type": "stream",
     "text": [
      "The sum of the attributes undergraduate_students and graduate_students 110\n",
      "There are more graduate students than undergraduate students\n",
      "The university Saint Peter’s University\n",
      "The State of University is New Jersey\n"
     ]
    }
   ],
   "source": [
    "class College(University):\n",
    "    def __init__(self,university_name,location, undergraduate_students, graduate_students,state):\n",
    "        University.__init__(self, university_name,location, undergraduate_students,graduate_students)\n",
    "        self.state = state\n",
    "        \n",
    "    def print_college(self) :\n",
    "        print(\"The university \"+ self.university_name)\n",
    "        print(\"The State of University is \"+ self.state)\n",
    "\n",
    "SPU = College('Saint Peter’s University',\"United States\",50,60,\"New Jersey\")\n",
    "SPU.print_university_size()  \n",
    "SPU.is_undergraduate_greater()  \n",
    "SPU.print_college()"
   ]
  },
  {
   "cell_type": "code",
   "execution_count": null,
   "id": "9c88b2fd",
   "metadata": {},
   "outputs": [],
   "source": []
  }
 ],
 "metadata": {
  "kernelspec": {
   "display_name": "Python 3 (ipykernel)",
   "language": "python",
   "name": "python3"
  },
  "language_info": {
   "codemirror_mode": {
    "name": "ipython",
    "version": 3
   },
   "file_extension": ".py",
   "mimetype": "text/x-python",
   "name": "python",
   "nbconvert_exporter": "python",
   "pygments_lexer": "ipython3",
   "version": "3.9.12"
  }
 },
 "nbformat": 4,
 "nbformat_minor": 5
}
